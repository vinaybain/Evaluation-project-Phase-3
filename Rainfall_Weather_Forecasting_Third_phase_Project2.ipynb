{
 "cells": [
  {
   "cell_type": "markdown",
   "metadata": {
    "id": "CW-aAjFsN5PO"
   },
   "source": [
    "**Rainfall Weather Forecasting**\n",
    "\n",
    "**Project Description**\n",
    "\n",
    "Weather forecasting is the application of science and technology to predict the conditions of the atmosphere for a given location and time. Weather forecasts are made by collecting quantitative data about the current state of the atmosphere at a given place and using meteorology to project how the atmosphere will change.\n",
    "Rain Dataset is to predict whether or not it will rain tomorrow. The Dataset contains about 10 years of daily weather observations of different locations in Australia. Here, predict two things:\n",
    "\n",
    "1. **Problem Statement:**\n",
    "\n",
    "a) Design a predictive model with the use of machine learning algorithms to forecast whether or not it will rain tomorrow.\n",
    "\n",
    "b)  Design a predictive model with the use of machine learning algorithms to predict how much rainfall could be there.\n"
   ]
  },
  {
   "cell_type": "markdown",
   "metadata": {
    "id": "5hBn77FvONVN"
   },
   "source": [
    "##**Dataset Description:**\n",
    "\n",
    "**Number of columns: 23**\n",
    "\n",
    "Date  - The date of observation\n",
    "\n",
    "Location  -The common name of the location of the weather station\n",
    "\n",
    "MinTemp  -The minimum temperature in degrees celsius\n",
    "\n",
    "MaxTemp -The maximum temperature in degrees celsius\n",
    "\n",
    "Rainfall  -The amount of rainfall recorded for the day in mm\n",
    "\n",
    "Evaporation  -The so-called Class A pan evaporation (mm) in the 24 hours to 9am\n",
    "\n",
    "Sunshine  -The number of hours of bright sunshine in the day.\n",
    "\n",
    "WindGustDi r- The direction of the strongest wind gust in the 24 hours to midnight\n",
    "\n",
    "WindGustSpeed -The speed (km/h) of the strongest wind gust in the 24 hours to midnight\n",
    "\n",
    "WindDir9am -Direction of the wind at 9am\n",
    "\n",
    "WindDir3pm -Direction of the wind at 3pm\n",
    "\n",
    "WindSpeed9am -Wind speed (km/hr) averaged over 10 minutes prior to 9am\n",
    "\n",
    "WindSpeed3pm -Wind speed (km/hr) averaged over 10 minutes prior to 3pm\n",
    "\n",
    "Humidity9am -Humidity (percent) at 9am\n",
    "\n",
    "Humidity3pm -Humidity (percent) at 3pm\n",
    "\n",
    "Pressure9am -Atmospheric pressure (hpa) reduced to mean sea level at 9am\n",
    "\n",
    "Pressure3pm -Atmospheric pressure (hpa) reduced to mean sea level at 3pm\n",
    "\n",
    "Cloud9am - Fraction of sky obscured by cloud at 9am.\n",
    "\n",
    "Cloud3pm -Fraction of sky obscured by cloud\n",
    "\n",
    "Temp9am-Temperature (degrees C) at 9am\n",
    "\n",
    "Temp3pm -Temperature (degrees C) at 3pm\n",
    "\n",
    "RainToday -Boolean: 1 if precipitation (mm) in the 24 hours to 9am exceeds 1mm, otherwise 0\n",
    "\n",
    "RainTomorrow -The amount of next day rain in mm. Used to create response variable . A kind of measure of the \"risk\".\n",
    "\n",
    "\n"
   ]
  },
  {
   "cell_type": "markdown",
   "metadata": {
    "id": "yw0-uW4zOmWY"
   },
   "source": [
    "**Dataset Link-**\n",
    "\n",
    "•\thttps://github.com/FlipRoboTechnologies/ML_-Datasets/blob/main/Rainfall%20Forecast/Rainfall.csv\n"
   ]
  },
  {
   "cell_type": "code",
   "execution_count": 1,
   "metadata": {
    "id": "PZ50FDfdQGv5"
   },
   "outputs": [],
   "source": [
    "import pandas as pd\n",
    "import numpy as np\n",
    "import matplotlib.pyplot as plt\n",
    "import seaborn as sns\n",
    "import warnings\n",
    "warnings.filterwarnings('ignore')"
   ]
  },
  {
   "cell_type": "code",
   "execution_count": 2,
   "metadata": {
    "id": "BMqjgnP6QQUb"
   },
   "outputs": [
    {
     "ename": "HTTPError",
     "evalue": "HTTP Error 404: Not Found",
     "output_type": "error",
     "traceback": [
      "\u001b[1;31m---------------------------------------------------------------------------\u001b[0m",
      "\u001b[1;31mHTTPError\u001b[0m                                 Traceback (most recent call last)",
      "Cell \u001b[1;32mIn[2], line 2\u001b[0m\n\u001b[0;32m      1\u001b[0m rainfall_url\u001b[38;5;241m=\u001b[39m\u001b[38;5;124m'\u001b[39m\u001b[38;5;124mhttps://raw.githubusercontent.com/FlipRoboTechnologies/ML_-Datasets/main/Rainfall\u001b[39m\u001b[38;5;132;01m%20F\u001b[39;00m\u001b[38;5;124morecast/Rainfall.csv\u001b[39m\u001b[38;5;124m'\u001b[39m\n\u001b[1;32m----> 2\u001b[0m df_Rain_Forecast\u001b[38;5;241m=\u001b[39mpd\u001b[38;5;241m.\u001b[39mread_csv(rainfall_url)\n\u001b[0;32m      3\u001b[0m df_Rain_Forecast\u001b[38;5;241m.\u001b[39mhead()\n",
      "File \u001b[1;32m~\\anaconda3\\Lib\\site-packages\\pandas\\util\\_decorators.py:211\u001b[0m, in \u001b[0;36mdeprecate_kwarg.<locals>._deprecate_kwarg.<locals>.wrapper\u001b[1;34m(*args, **kwargs)\u001b[0m\n\u001b[0;32m    209\u001b[0m     \u001b[38;5;28;01melse\u001b[39;00m:\n\u001b[0;32m    210\u001b[0m         kwargs[new_arg_name] \u001b[38;5;241m=\u001b[39m new_arg_value\n\u001b[1;32m--> 211\u001b[0m \u001b[38;5;28;01mreturn\u001b[39;00m func(\u001b[38;5;241m*\u001b[39margs, \u001b[38;5;241m*\u001b[39m\u001b[38;5;241m*\u001b[39mkwargs)\n",
      "File \u001b[1;32m~\\anaconda3\\Lib\\site-packages\\pandas\\util\\_decorators.py:331\u001b[0m, in \u001b[0;36mdeprecate_nonkeyword_arguments.<locals>.decorate.<locals>.wrapper\u001b[1;34m(*args, **kwargs)\u001b[0m\n\u001b[0;32m    325\u001b[0m \u001b[38;5;28;01mif\u001b[39;00m \u001b[38;5;28mlen\u001b[39m(args) \u001b[38;5;241m>\u001b[39m num_allow_args:\n\u001b[0;32m    326\u001b[0m     warnings\u001b[38;5;241m.\u001b[39mwarn(\n\u001b[0;32m    327\u001b[0m         msg\u001b[38;5;241m.\u001b[39mformat(arguments\u001b[38;5;241m=\u001b[39m_format_argument_list(allow_args)),\n\u001b[0;32m    328\u001b[0m         \u001b[38;5;167;01mFutureWarning\u001b[39;00m,\n\u001b[0;32m    329\u001b[0m         stacklevel\u001b[38;5;241m=\u001b[39mfind_stack_level(),\n\u001b[0;32m    330\u001b[0m     )\n\u001b[1;32m--> 331\u001b[0m \u001b[38;5;28;01mreturn\u001b[39;00m func(\u001b[38;5;241m*\u001b[39margs, \u001b[38;5;241m*\u001b[39m\u001b[38;5;241m*\u001b[39mkwargs)\n",
      "File \u001b[1;32m~\\anaconda3\\Lib\\site-packages\\pandas\\io\\parsers\\readers.py:950\u001b[0m, in \u001b[0;36mread_csv\u001b[1;34m(filepath_or_buffer, sep, delimiter, header, names, index_col, usecols, squeeze, prefix, mangle_dupe_cols, dtype, engine, converters, true_values, false_values, skipinitialspace, skiprows, skipfooter, nrows, na_values, keep_default_na, na_filter, verbose, skip_blank_lines, parse_dates, infer_datetime_format, keep_date_col, date_parser, dayfirst, cache_dates, iterator, chunksize, compression, thousands, decimal, lineterminator, quotechar, quoting, doublequote, escapechar, comment, encoding, encoding_errors, dialect, error_bad_lines, warn_bad_lines, on_bad_lines, delim_whitespace, low_memory, memory_map, float_precision, storage_options)\u001b[0m\n\u001b[0;32m    935\u001b[0m kwds_defaults \u001b[38;5;241m=\u001b[39m _refine_defaults_read(\n\u001b[0;32m    936\u001b[0m     dialect,\n\u001b[0;32m    937\u001b[0m     delimiter,\n\u001b[1;32m   (...)\u001b[0m\n\u001b[0;32m    946\u001b[0m     defaults\u001b[38;5;241m=\u001b[39m{\u001b[38;5;124m\"\u001b[39m\u001b[38;5;124mdelimiter\u001b[39m\u001b[38;5;124m\"\u001b[39m: \u001b[38;5;124m\"\u001b[39m\u001b[38;5;124m,\u001b[39m\u001b[38;5;124m\"\u001b[39m},\n\u001b[0;32m    947\u001b[0m )\n\u001b[0;32m    948\u001b[0m kwds\u001b[38;5;241m.\u001b[39mupdate(kwds_defaults)\n\u001b[1;32m--> 950\u001b[0m \u001b[38;5;28;01mreturn\u001b[39;00m _read(filepath_or_buffer, kwds)\n",
      "File \u001b[1;32m~\\anaconda3\\Lib\\site-packages\\pandas\\io\\parsers\\readers.py:605\u001b[0m, in \u001b[0;36m_read\u001b[1;34m(filepath_or_buffer, kwds)\u001b[0m\n\u001b[0;32m    602\u001b[0m _validate_names(kwds\u001b[38;5;241m.\u001b[39mget(\u001b[38;5;124m\"\u001b[39m\u001b[38;5;124mnames\u001b[39m\u001b[38;5;124m\"\u001b[39m, \u001b[38;5;28;01mNone\u001b[39;00m))\n\u001b[0;32m    604\u001b[0m \u001b[38;5;66;03m# Create the parser.\u001b[39;00m\n\u001b[1;32m--> 605\u001b[0m parser \u001b[38;5;241m=\u001b[39m TextFileReader(filepath_or_buffer, \u001b[38;5;241m*\u001b[39m\u001b[38;5;241m*\u001b[39mkwds)\n\u001b[0;32m    607\u001b[0m \u001b[38;5;28;01mif\u001b[39;00m chunksize \u001b[38;5;129;01mor\u001b[39;00m iterator:\n\u001b[0;32m    608\u001b[0m     \u001b[38;5;28;01mreturn\u001b[39;00m parser\n",
      "File \u001b[1;32m~\\anaconda3\\Lib\\site-packages\\pandas\\io\\parsers\\readers.py:1442\u001b[0m, in \u001b[0;36mTextFileReader.__init__\u001b[1;34m(self, f, engine, **kwds)\u001b[0m\n\u001b[0;32m   1439\u001b[0m     \u001b[38;5;28mself\u001b[39m\u001b[38;5;241m.\u001b[39moptions[\u001b[38;5;124m\"\u001b[39m\u001b[38;5;124mhas_index_names\u001b[39m\u001b[38;5;124m\"\u001b[39m] \u001b[38;5;241m=\u001b[39m kwds[\u001b[38;5;124m\"\u001b[39m\u001b[38;5;124mhas_index_names\u001b[39m\u001b[38;5;124m\"\u001b[39m]\n\u001b[0;32m   1441\u001b[0m \u001b[38;5;28mself\u001b[39m\u001b[38;5;241m.\u001b[39mhandles: IOHandles \u001b[38;5;241m|\u001b[39m \u001b[38;5;28;01mNone\u001b[39;00m \u001b[38;5;241m=\u001b[39m \u001b[38;5;28;01mNone\u001b[39;00m\n\u001b[1;32m-> 1442\u001b[0m \u001b[38;5;28mself\u001b[39m\u001b[38;5;241m.\u001b[39m_engine \u001b[38;5;241m=\u001b[39m \u001b[38;5;28mself\u001b[39m\u001b[38;5;241m.\u001b[39m_make_engine(f, \u001b[38;5;28mself\u001b[39m\u001b[38;5;241m.\u001b[39mengine)\n",
      "File \u001b[1;32m~\\anaconda3\\Lib\\site-packages\\pandas\\io\\parsers\\readers.py:1735\u001b[0m, in \u001b[0;36mTextFileReader._make_engine\u001b[1;34m(self, f, engine)\u001b[0m\n\u001b[0;32m   1733\u001b[0m     \u001b[38;5;28;01mif\u001b[39;00m \u001b[38;5;124m\"\u001b[39m\u001b[38;5;124mb\u001b[39m\u001b[38;5;124m\"\u001b[39m \u001b[38;5;129;01mnot\u001b[39;00m \u001b[38;5;129;01min\u001b[39;00m mode:\n\u001b[0;32m   1734\u001b[0m         mode \u001b[38;5;241m+\u001b[39m\u001b[38;5;241m=\u001b[39m \u001b[38;5;124m\"\u001b[39m\u001b[38;5;124mb\u001b[39m\u001b[38;5;124m\"\u001b[39m\n\u001b[1;32m-> 1735\u001b[0m \u001b[38;5;28mself\u001b[39m\u001b[38;5;241m.\u001b[39mhandles \u001b[38;5;241m=\u001b[39m get_handle(\n\u001b[0;32m   1736\u001b[0m     f,\n\u001b[0;32m   1737\u001b[0m     mode,\n\u001b[0;32m   1738\u001b[0m     encoding\u001b[38;5;241m=\u001b[39m\u001b[38;5;28mself\u001b[39m\u001b[38;5;241m.\u001b[39moptions\u001b[38;5;241m.\u001b[39mget(\u001b[38;5;124m\"\u001b[39m\u001b[38;5;124mencoding\u001b[39m\u001b[38;5;124m\"\u001b[39m, \u001b[38;5;28;01mNone\u001b[39;00m),\n\u001b[0;32m   1739\u001b[0m     compression\u001b[38;5;241m=\u001b[39m\u001b[38;5;28mself\u001b[39m\u001b[38;5;241m.\u001b[39moptions\u001b[38;5;241m.\u001b[39mget(\u001b[38;5;124m\"\u001b[39m\u001b[38;5;124mcompression\u001b[39m\u001b[38;5;124m\"\u001b[39m, \u001b[38;5;28;01mNone\u001b[39;00m),\n\u001b[0;32m   1740\u001b[0m     memory_map\u001b[38;5;241m=\u001b[39m\u001b[38;5;28mself\u001b[39m\u001b[38;5;241m.\u001b[39moptions\u001b[38;5;241m.\u001b[39mget(\u001b[38;5;124m\"\u001b[39m\u001b[38;5;124mmemory_map\u001b[39m\u001b[38;5;124m\"\u001b[39m, \u001b[38;5;28;01mFalse\u001b[39;00m),\n\u001b[0;32m   1741\u001b[0m     is_text\u001b[38;5;241m=\u001b[39mis_text,\n\u001b[0;32m   1742\u001b[0m     errors\u001b[38;5;241m=\u001b[39m\u001b[38;5;28mself\u001b[39m\u001b[38;5;241m.\u001b[39moptions\u001b[38;5;241m.\u001b[39mget(\u001b[38;5;124m\"\u001b[39m\u001b[38;5;124mencoding_errors\u001b[39m\u001b[38;5;124m\"\u001b[39m, \u001b[38;5;124m\"\u001b[39m\u001b[38;5;124mstrict\u001b[39m\u001b[38;5;124m\"\u001b[39m),\n\u001b[0;32m   1743\u001b[0m     storage_options\u001b[38;5;241m=\u001b[39m\u001b[38;5;28mself\u001b[39m\u001b[38;5;241m.\u001b[39moptions\u001b[38;5;241m.\u001b[39mget(\u001b[38;5;124m\"\u001b[39m\u001b[38;5;124mstorage_options\u001b[39m\u001b[38;5;124m\"\u001b[39m, \u001b[38;5;28;01mNone\u001b[39;00m),\n\u001b[0;32m   1744\u001b[0m )\n\u001b[0;32m   1745\u001b[0m \u001b[38;5;28;01massert\u001b[39;00m \u001b[38;5;28mself\u001b[39m\u001b[38;5;241m.\u001b[39mhandles \u001b[38;5;129;01mis\u001b[39;00m \u001b[38;5;129;01mnot\u001b[39;00m \u001b[38;5;28;01mNone\u001b[39;00m\n\u001b[0;32m   1746\u001b[0m f \u001b[38;5;241m=\u001b[39m \u001b[38;5;28mself\u001b[39m\u001b[38;5;241m.\u001b[39mhandles\u001b[38;5;241m.\u001b[39mhandle\n",
      "File \u001b[1;32m~\\anaconda3\\Lib\\site-packages\\pandas\\io\\common.py:713\u001b[0m, in \u001b[0;36mget_handle\u001b[1;34m(path_or_buf, mode, encoding, compression, memory_map, is_text, errors, storage_options)\u001b[0m\n\u001b[0;32m    710\u001b[0m     codecs\u001b[38;5;241m.\u001b[39mlookup_error(errors)\n\u001b[0;32m    712\u001b[0m \u001b[38;5;66;03m# open URLs\u001b[39;00m\n\u001b[1;32m--> 713\u001b[0m ioargs \u001b[38;5;241m=\u001b[39m _get_filepath_or_buffer(\n\u001b[0;32m    714\u001b[0m     path_or_buf,\n\u001b[0;32m    715\u001b[0m     encoding\u001b[38;5;241m=\u001b[39mencoding,\n\u001b[0;32m    716\u001b[0m     compression\u001b[38;5;241m=\u001b[39mcompression,\n\u001b[0;32m    717\u001b[0m     mode\u001b[38;5;241m=\u001b[39mmode,\n\u001b[0;32m    718\u001b[0m     storage_options\u001b[38;5;241m=\u001b[39mstorage_options,\n\u001b[0;32m    719\u001b[0m )\n\u001b[0;32m    721\u001b[0m handle \u001b[38;5;241m=\u001b[39m ioargs\u001b[38;5;241m.\u001b[39mfilepath_or_buffer\n\u001b[0;32m    722\u001b[0m handles: \u001b[38;5;28mlist\u001b[39m[BaseBuffer]\n",
      "File \u001b[1;32m~\\anaconda3\\Lib\\site-packages\\pandas\\io\\common.py:363\u001b[0m, in \u001b[0;36m_get_filepath_or_buffer\u001b[1;34m(filepath_or_buffer, encoding, compression, mode, storage_options)\u001b[0m\n\u001b[0;32m    361\u001b[0m \u001b[38;5;66;03m# assuming storage_options is to be interpreted as headers\u001b[39;00m\n\u001b[0;32m    362\u001b[0m req_info \u001b[38;5;241m=\u001b[39m urllib\u001b[38;5;241m.\u001b[39mrequest\u001b[38;5;241m.\u001b[39mRequest(filepath_or_buffer, headers\u001b[38;5;241m=\u001b[39mstorage_options)\n\u001b[1;32m--> 363\u001b[0m \u001b[38;5;28;01mwith\u001b[39;00m urlopen(req_info) \u001b[38;5;28;01mas\u001b[39;00m req:\n\u001b[0;32m    364\u001b[0m     content_encoding \u001b[38;5;241m=\u001b[39m req\u001b[38;5;241m.\u001b[39mheaders\u001b[38;5;241m.\u001b[39mget(\u001b[38;5;124m\"\u001b[39m\u001b[38;5;124mContent-Encoding\u001b[39m\u001b[38;5;124m\"\u001b[39m, \u001b[38;5;28;01mNone\u001b[39;00m)\n\u001b[0;32m    365\u001b[0m     \u001b[38;5;28;01mif\u001b[39;00m content_encoding \u001b[38;5;241m==\u001b[39m \u001b[38;5;124m\"\u001b[39m\u001b[38;5;124mgzip\u001b[39m\u001b[38;5;124m\"\u001b[39m:\n\u001b[0;32m    366\u001b[0m         \u001b[38;5;66;03m# Override compression based on Content-Encoding header\u001b[39;00m\n",
      "File \u001b[1;32m~\\anaconda3\\Lib\\site-packages\\pandas\\io\\common.py:265\u001b[0m, in \u001b[0;36murlopen\u001b[1;34m(*args, **kwargs)\u001b[0m\n\u001b[0;32m    259\u001b[0m \u001b[38;5;250m\u001b[39m\u001b[38;5;124;03m\"\"\"\u001b[39;00m\n\u001b[0;32m    260\u001b[0m \u001b[38;5;124;03mLazy-import wrapper for stdlib urlopen, as that imports a big chunk of\u001b[39;00m\n\u001b[0;32m    261\u001b[0m \u001b[38;5;124;03mthe stdlib.\u001b[39;00m\n\u001b[0;32m    262\u001b[0m \u001b[38;5;124;03m\"\"\"\u001b[39;00m\n\u001b[0;32m    263\u001b[0m \u001b[38;5;28;01mimport\u001b[39;00m \u001b[38;5;21;01murllib\u001b[39;00m\u001b[38;5;21;01m.\u001b[39;00m\u001b[38;5;21;01mrequest\u001b[39;00m\n\u001b[1;32m--> 265\u001b[0m \u001b[38;5;28;01mreturn\u001b[39;00m urllib\u001b[38;5;241m.\u001b[39mrequest\u001b[38;5;241m.\u001b[39murlopen(\u001b[38;5;241m*\u001b[39margs, \u001b[38;5;241m*\u001b[39m\u001b[38;5;241m*\u001b[39mkwargs)\n",
      "File \u001b[1;32m~\\anaconda3\\Lib\\urllib\\request.py:216\u001b[0m, in \u001b[0;36murlopen\u001b[1;34m(url, data, timeout, cafile, capath, cadefault, context)\u001b[0m\n\u001b[0;32m    214\u001b[0m \u001b[38;5;28;01melse\u001b[39;00m:\n\u001b[0;32m    215\u001b[0m     opener \u001b[38;5;241m=\u001b[39m _opener\n\u001b[1;32m--> 216\u001b[0m \u001b[38;5;28;01mreturn\u001b[39;00m opener\u001b[38;5;241m.\u001b[39mopen(url, data, timeout)\n",
      "File \u001b[1;32m~\\anaconda3\\Lib\\urllib\\request.py:525\u001b[0m, in \u001b[0;36mOpenerDirector.open\u001b[1;34m(self, fullurl, data, timeout)\u001b[0m\n\u001b[0;32m    523\u001b[0m \u001b[38;5;28;01mfor\u001b[39;00m processor \u001b[38;5;129;01min\u001b[39;00m \u001b[38;5;28mself\u001b[39m\u001b[38;5;241m.\u001b[39mprocess_response\u001b[38;5;241m.\u001b[39mget(protocol, []):\n\u001b[0;32m    524\u001b[0m     meth \u001b[38;5;241m=\u001b[39m \u001b[38;5;28mgetattr\u001b[39m(processor, meth_name)\n\u001b[1;32m--> 525\u001b[0m     response \u001b[38;5;241m=\u001b[39m meth(req, response)\n\u001b[0;32m    527\u001b[0m \u001b[38;5;28;01mreturn\u001b[39;00m response\n",
      "File \u001b[1;32m~\\anaconda3\\Lib\\urllib\\request.py:634\u001b[0m, in \u001b[0;36mHTTPErrorProcessor.http_response\u001b[1;34m(self, request, response)\u001b[0m\n\u001b[0;32m    631\u001b[0m \u001b[38;5;66;03m# According to RFC 2616, \"2xx\" code indicates that the client's\u001b[39;00m\n\u001b[0;32m    632\u001b[0m \u001b[38;5;66;03m# request was successfully received, understood, and accepted.\u001b[39;00m\n\u001b[0;32m    633\u001b[0m \u001b[38;5;28;01mif\u001b[39;00m \u001b[38;5;129;01mnot\u001b[39;00m (\u001b[38;5;241m200\u001b[39m \u001b[38;5;241m<\u001b[39m\u001b[38;5;241m=\u001b[39m code \u001b[38;5;241m<\u001b[39m \u001b[38;5;241m300\u001b[39m):\n\u001b[1;32m--> 634\u001b[0m     response \u001b[38;5;241m=\u001b[39m \u001b[38;5;28mself\u001b[39m\u001b[38;5;241m.\u001b[39mparent\u001b[38;5;241m.\u001b[39merror(\n\u001b[0;32m    635\u001b[0m         \u001b[38;5;124m'\u001b[39m\u001b[38;5;124mhttp\u001b[39m\u001b[38;5;124m'\u001b[39m, request, response, code, msg, hdrs)\n\u001b[0;32m    637\u001b[0m \u001b[38;5;28;01mreturn\u001b[39;00m response\n",
      "File \u001b[1;32m~\\anaconda3\\Lib\\urllib\\request.py:563\u001b[0m, in \u001b[0;36mOpenerDirector.error\u001b[1;34m(self, proto, *args)\u001b[0m\n\u001b[0;32m    561\u001b[0m \u001b[38;5;28;01mif\u001b[39;00m http_err:\n\u001b[0;32m    562\u001b[0m     args \u001b[38;5;241m=\u001b[39m (\u001b[38;5;28mdict\u001b[39m, \u001b[38;5;124m'\u001b[39m\u001b[38;5;124mdefault\u001b[39m\u001b[38;5;124m'\u001b[39m, \u001b[38;5;124m'\u001b[39m\u001b[38;5;124mhttp_error_default\u001b[39m\u001b[38;5;124m'\u001b[39m) \u001b[38;5;241m+\u001b[39m orig_args\n\u001b[1;32m--> 563\u001b[0m     \u001b[38;5;28;01mreturn\u001b[39;00m \u001b[38;5;28mself\u001b[39m\u001b[38;5;241m.\u001b[39m_call_chain(\u001b[38;5;241m*\u001b[39margs)\n",
      "File \u001b[1;32m~\\anaconda3\\Lib\\urllib\\request.py:496\u001b[0m, in \u001b[0;36mOpenerDirector._call_chain\u001b[1;34m(self, chain, kind, meth_name, *args)\u001b[0m\n\u001b[0;32m    494\u001b[0m \u001b[38;5;28;01mfor\u001b[39;00m handler \u001b[38;5;129;01min\u001b[39;00m handlers:\n\u001b[0;32m    495\u001b[0m     func \u001b[38;5;241m=\u001b[39m \u001b[38;5;28mgetattr\u001b[39m(handler, meth_name)\n\u001b[1;32m--> 496\u001b[0m     result \u001b[38;5;241m=\u001b[39m func(\u001b[38;5;241m*\u001b[39margs)\n\u001b[0;32m    497\u001b[0m     \u001b[38;5;28;01mif\u001b[39;00m result \u001b[38;5;129;01mis\u001b[39;00m \u001b[38;5;129;01mnot\u001b[39;00m \u001b[38;5;28;01mNone\u001b[39;00m:\n\u001b[0;32m    498\u001b[0m         \u001b[38;5;28;01mreturn\u001b[39;00m result\n",
      "File \u001b[1;32m~\\anaconda3\\Lib\\urllib\\request.py:643\u001b[0m, in \u001b[0;36mHTTPDefaultErrorHandler.http_error_default\u001b[1;34m(self, req, fp, code, msg, hdrs)\u001b[0m\n\u001b[0;32m    642\u001b[0m \u001b[38;5;28;01mdef\u001b[39;00m \u001b[38;5;21mhttp_error_default\u001b[39m(\u001b[38;5;28mself\u001b[39m, req, fp, code, msg, hdrs):\n\u001b[1;32m--> 643\u001b[0m     \u001b[38;5;28;01mraise\u001b[39;00m HTTPError(req\u001b[38;5;241m.\u001b[39mfull_url, code, msg, hdrs, fp)\n",
      "\u001b[1;31mHTTPError\u001b[0m: HTTP Error 404: Not Found"
     ]
    }
   ],
   "source": [
    "rainfall_url='https://raw.githubusercontent.com/FlipRoboTechnologies/ML_-Datasets/main/Rainfall%20Forecast/Rainfall.csv'\n",
    "df_Rain_Forecast=pd.read_csv(rainfall_url)\n",
    "df_Rain_Forecast.head()"
   ]
  },
  {
   "cell_type": "markdown",
   "metadata": {
    "id": "d_86YbC_UcpP"
   },
   "source": [
    "**Data Exploration :**"
   ]
  },
  {
   "cell_type": "code",
   "execution_count": null,
   "metadata": {
    "id": "TxL2fQcFVHwJ"
   },
   "outputs": [],
   "source": [
    "df_Rain_Forecast.shape"
   ]
  },
  {
   "cell_type": "code",
   "execution_count": null,
   "metadata": {
    "id": "kZnroRJ9Vg1h"
   },
   "outputs": [],
   "source": [
    "df_Rain_Forecast.info()\n"
   ]
  },
  {
   "cell_type": "code",
   "execution_count": null,
   "metadata": {
    "id": "MXZbfKCIVm_i"
   },
   "outputs": [],
   "source": [
    "df_Rain_Forecast.dtypes"
   ]
  },
  {
   "cell_type": "code",
   "execution_count": null,
   "metadata": {
    "id": "Brajbv6JkZUk"
   },
   "outputs": [],
   "source": [
    "#Find the type of data\n",
    "\n",
    "fig,ax=plt.subplots(figsize=(20,10))\n",
    "df_Rain_Forecast.dtypes.value_counts().plot.pie(explode=[0.1,0.1],autopct='%1.1f%%',ax=ax,shadow=True)\n",
    "plt.show()"
   ]
  },
  {
   "cell_type": "markdown",
   "metadata": {
    "id": "5QyUEdw9ZCnr"
   },
   "source": []
  },
  {
   "cell_type": "code",
   "execution_count": null,
   "metadata": {
    "id": "xPA6ZZlyZBxb"
   },
   "outputs": [],
   "source": [
    "df_Rain_Forecast.isnull().sum()"
   ]
  },
  {
   "cell_type": "code",
   "execution_count": null,
   "metadata": {
    "id": "qwYv-LlWnfF0"
   },
   "outputs": [],
   "source": [
    "rain_today_count = df_Rain_Forecast['RainToday'].value_counts()\n",
    "rain_tomorrow_count = df_Rain_Forecast['RainTomorrow'].value_counts()\n",
    "print(rain_today_count)\n",
    "print(rain_tomorrow_count)"
   ]
  },
  {
   "cell_type": "code",
   "execution_count": null,
   "metadata": {
    "id": "fOhEGQTkmg7L"
   },
   "outputs": [],
   "source": [
    "#Here ,I can see few data is in object so needs to convert it into binary\n",
    "RainToday_map = {'Yes': 1, 'No': 0}\n",
    "RainTomorrow_map = {'Yes': 1, 'No': 0}\n",
    "df_Rain_Forecast['RainToday'] = df_Rain_Forecast['RainToday'].map(RainToday_map)\n",
    "df_Rain_Forecast['RainTomorrow'] = df_Rain_Forecast['RainTomorrow'].map(RainTomorrow_map)\n"
   ]
  },
  {
   "cell_type": "code",
   "execution_count": null,
   "metadata": {
    "id": "qhtTRZ_xoQFP"
   },
   "outputs": [],
   "source": [
    "df_Rain_Forecast.describe()"
   ]
  },
  {
   "cell_type": "markdown",
   "metadata": {
    "id": "8eMDSxvboZAX"
   },
   "source": [
    "The counts for each column are different, indicating that there are missing values in some columns."
   ]
  },
  {
   "cell_type": "code",
   "execution_count": null,
   "metadata": {
    "id": "qOFlU4HzoYnn"
   },
   "outputs": [],
   "source": [
    "missed_data_value = df_Rain_Forecast.isnull().sum()\n",
    "percent_missing = df_Rain_Forecast.isnull().sum() * 100 / len(df_Rain_Forecast)\n",
    "print('missed_data_value: \\n',missed_data_value, 'percent_missing : \\n', percent_missing)"
   ]
  },
  {
   "cell_type": "markdown",
   "metadata": {
    "id": "gpgJllj-q78_"
   },
   "source": [
    "Here we can see the features :\n",
    "Evaporation      41.685460,\n",
    "\n",
    "Sunshine         47.\n",
    "\n",
    "Cloud9am         28.735905\n",
    "\n",
    "Cloud3pm         29.139466406528\n",
    "\n",
    "have high percentage data loss /Data missing %"
   ]
  },
  {
   "cell_type": "code",
   "execution_count": null,
   "metadata": {
    "id": "bchymxl8tg4r"
   },
   "outputs": [],
   "source": [
    "#handling class imblance for rainfall predection\n",
    "\n",
    "from sklearn.utils import resample\n",
    "\n",
    "# Separate majority and minority classes\n",
    "df_Rain_Forecast_majority = df_Rain_Forecast[df_Rain_Forecast.RainTomorrow==0]\n",
    "df_Rain_Forecast_minority = df_Rain_Forecast[df_Rain_Forecast.RainTomorrow==1]\n",
    "\n",
    "# Upsample minority class\n",
    "df_Rain_Forecast_minority_upsampled = resample(df_Rain_Forecast_minority,\n",
    "replace=True,     # sample with replacement\n",
    "n_samples=len(df_Rain_Forecast_majority),  # match number in majority class\n",
    "random_state=42\n",
    ")\n",
    "\n",
    "# Combine majority class with upsampled minority class\n",
    "df_Rain_Forecast_upsampled = pd.concat([df_Rain_Forecast_majority, df_Rain_Forecast_minority_upsampled])\n",
    "\n",
    "# Display new class counts\n",
    "df_Rain_Forecast_upsampled.RainTomorrow.value_counts()\n",
    "\n",
    "print(df_Rain_Forecast_upsampled.shape)\n"
   ]
  },
  {
   "cell_type": "code",
   "execution_count": null,
   "metadata": {
    "id": "7qFFeiNu3e1t"
   },
   "outputs": [],
   "source": [
    "#Find the type of data\n",
    "\n",
    "fig,ax=plt.subplots(figsize=(20,10))\n",
    "df_Rain_Forecast_upsampled.dtypes.value_counts().plot.pie(explode=[0.1,0.1],autopct='%1.1f%%',ax=ax,shadow=True)\n",
    "plt.show()"
   ]
  },
  {
   "cell_type": "code",
   "execution_count": null,
   "metadata": {
    "id": "idoX1G40vB_Z"
   },
   "outputs": [],
   "source": [
    "#fig,ax=plt.subplots(figsize=(20,10))\n",
    "df_Rain_Forecast_upsampled"
   ]
  },
  {
   "cell_type": "code",
   "execution_count": null,
   "metadata": {
    "id": "ObG3CVwd30M2"
   },
   "outputs": [],
   "source": [
    "oversmapled = df_Rain_Forecast_upsampled.dropna()\n",
    "total_val = oversmapled.isnull().sum().sort_values(ascending=False)\n",
    "percentage = (oversmapled.isnull().sum()/len(oversmapled.isnull())*100).sort_values(ascending=False)\n",
    "missing_data = pd.concat([total_val, percentage], axis=1, keys=['Total', 'Percentage'])\n",
    "missing_data.head(20)"
   ]
  },
  {
   "cell_type": "code",
   "execution_count": null,
   "metadata": {
    "id": "LNXOGzebrXcf"
   },
   "outputs": [],
   "source": [
    "oversmapled.head()\n",
    "print(oversmapled.shape)\n",
    "#oversmapled = df_Rain_Forecast.dropna()\n",
    "#total_val = oversmapled.isnull().sum().sort_values(ascending=False)\n",
    "#percentage = (oversmapled.isnull().sum()/len(oversmapled.isnull())*100).sort_values(ascending=False)\n",
    "#missing_data = pd.concat([total_val, percentage], axis=1, keys=['Total', 'Percentage'])\n",
    "#missing_data.head(20)"
   ]
  },
  {
   "cell_type": "code",
   "execution_count": null,
   "metadata": {
    "id": "iQALV4KnBar5"
   },
   "outputs": [],
   "source": [
    "#missing data pattern in Training Data\n",
    "import seaborn as sns\n",
    "sns.heatmap(df_Rain_Forecast_upsampled.isnull(),yticklabels=False,cbar=False,cmap='viridis')\n",
    "print(df_Rain_Forecast_upsampled.shape)"
   ]
  },
  {
   "cell_type": "code",
   "execution_count": null,
   "metadata": {
    "id": "U5uza-pQ4a0J"
   },
   "outputs": [],
   "source": [
    "#missing data pattern in Training Data old data\n",
    "import seaborn as sns\n",
    "sns.heatmap(df_Rain_Forecast.isnull(),yticklabels=False,cbar=False,cmap='viridis')\n",
    "print(df_Rain_Forecast.shape)"
   ]
  },
  {
   "cell_type": "markdown",
   "metadata": {
    "id": "lhU22TbEBo8S"
   },
   "source": [
    "Here we can observer highly missing values like Evaporation,sunshine,Cloud9am and cloud3pm .\n",
    "\n",
    "And we can observer the above four features have lessthan 50 per cent missing data .so insted of rejection them completly,we'll consider them in our model with proper imputation\n"
   ]
  },
  {
   "cell_type": "markdown",
   "metadata": {
    "id": "a1CMf-PLDLvu"
   },
   "source": [
    "**Imputation and transformation**\n",
    "\n",
    "\n",
    "we will impute the ctagorical columns with mode,and then we will use the label encoder to convert them to numeric numbers"
   ]
  },
  {
   "cell_type": "code",
   "execution_count": null,
   "metadata": {
    "id": "kqPybRp2DSeT"
   },
   "outputs": [],
   "source": [
    "oversmapled.select_dtypes(include=['object']).columns"
   ]
  },
  {
   "cell_type": "code",
   "execution_count": null,
   "metadata": {
    "id": "eDqE6nTZD622"
   },
   "outputs": [],
   "source": [
    "#impute catagerical variables with mode\n",
    "oversmapled['WindGustDir'] = oversmapled['WindGustDir'].fillna(oversmapled['WindGustDir'].mode()[0])\n",
    "oversmapled['WindDir9am'] = oversmapled['WindDir9am'].fillna(oversmapled['WindDir9am'].mode()[0])\n",
    "oversmapled['WindDir3pm'] = oversmapled['WindDir3pm'].fillna(oversmapled['WindDir3pm'].mode()[0])\n",
    "oversmapled['Date'] = oversmapled['Date'].fillna(oversmapled['Date'].mode()[0])\n",
    "oversmapled['Location'] = oversmapled['Location'].fillna(oversmapled['Location'].mode()[0])"
   ]
  },
  {
   "cell_type": "code",
   "execution_count": null,
   "metadata": {
    "id": "ccN-cpPOEaNl"
   },
   "outputs": [],
   "source": [
    "#convert catagorical to numeric with label encoder\n",
    "from sklearn.preprocessing import LabelEncoder\n",
    "le = LabelEncoder()\n",
    "for i in oversmapled.select_dtypes(include=['object']).columns:\n",
    "    oversmapled[i] = le.fit_transform(oversmapled[i])\n",
    "\n",
    "oversmapled\n"
   ]
  },
  {
   "cell_type": "code",
   "execution_count": null,
   "metadata": {
    "id": "bINYt-vpEsET"
   },
   "outputs": [],
   "source": [
    "oversmapled.head()"
   ]
  },
  {
   "cell_type": "code",
   "execution_count": null,
   "metadata": {
    "id": "DbmVj80pFWWf"
   },
   "outputs": [],
   "source": [
    "oversmapled.dtypes"
   ]
  },
  {
   "cell_type": "markdown",
   "metadata": {
    "id": "nlQTb7dpCyZl"
   },
   "source": []
  },
  {
   "cell_type": "code",
   "execution_count": null,
   "metadata": {
    "id": "MTak_9YCGL1a"
   },
   "outputs": [],
   "source": [
    "import warnings\n",
    "warnings.filterwarnings('ignore')\n",
    "\n",
    "from sklearn.experimental import enable_iterative_imputer\n",
    "from sklearn.impute import IterativeImputer\n",
    "\n",
    "MiceImputed = oversmapled.copy()\n",
    "mice_imputer = IterativeImputer()\n",
    "MiceImputed.iloc[:, :] = mice_imputer.fit_transform(MiceImputed)\n",
    "MiceImputed.head()\n",
    "#"
   ]
  },
  {
   "cell_type": "code",
   "execution_count": null,
   "metadata": {
    "id": "HZv5W6HJGymD"
   },
   "outputs": [],
   "source": [
    "#detecting Outliers with IQR\n",
    "\n",
    "Q1 = oversmapled.quantile(0.25)\n",
    "Q3 = oversmapled.quantile(0.75)\n",
    "IQR = Q3 - Q1\n",
    "print('IQR \\b', IQR)\n",
    "\n",
    "#Defome pouliers detectionthresholds\n",
    "lower_bound = Q1 - 1.5 * IQR\n",
    "upper_bound = Q3 + 1.5 * IQR\n",
    "print(\"Lower_bound\", lower_bound)\n",
    "print(\"upper_bound\",upper_bound)\n",
    "\n",
    "#define outliers\n",
    "outliers = ((oversmapled < lower_bound) | (oversmapled > upper_bound))\n",
    "print('outliers',outliers)"
   ]
  },
  {
   "cell_type": "code",
   "execution_count": null,
   "metadata": {
    "id": "5wd6X54mJGdx"
   },
   "outputs": [],
   "source": [
    "oversmapled.shape"
   ]
  },
  {
   "cell_type": "code",
   "execution_count": null,
   "metadata": {
    "id": "Y3iaDLJ-IxLp"
   },
   "outputs": [],
   "source": [
    "#removing outliers from the dataset\n",
    "\n",
    "MiceImputed = MiceImputed[~((MiceImputed < (Q1 - 1.5 * IQR)) |(MiceImputed > (Q3 + 1.5 * IQR))).any(axis=1)]\n",
    "MiceImputed.shape"
   ]
  },
  {
   "cell_type": "markdown",
   "metadata": {
    "id": "zDU5Pm6WJWgC"
   },
   "source": [
    "Aster removing the outliers the dataset has the form of ( 2297,23) and 1493 got free .\n",
    "\n",
    "now we are going to check multicollinearity,that is to say if a character is strolgly correlated with another"
   ]
  },
  {
   "cell_type": "code",
   "execution_count": null,
   "metadata": {
    "id": "7zfDEO0tByKv"
   },
   "outputs": [],
   "source": []
  },
  {
   "cell_type": "markdown",
   "metadata": {
    "id": "auj1lM3mHYM6"
   },
   "source": [
    "##Correlation HeatMap 1"
   ]
  },
  {
   "cell_type": "code",
   "execution_count": null,
   "metadata": {
    "id": "RvyybppgK4Th"
   },
   "outputs": [],
   "source": [
    "import seaborn as sns\n",
    "corr = MiceImputed.corr()\n",
    "#sns.heatmap(corr,annot=True)\n",
    "fig,ax=plt.subplots(figsize=(20,15))\n",
    "cmap = sns.diverging_palette(220, 15, as_cmap=True)\n",
    "sns.heatmap(corr, cmap=cmap, vmax=.3, center=0,\n",
    "            square=True, linewidths=.5,annot=True, cbar_kws={\"shrink\": .5})\n",
    "plt.show()"
   ]
  },
  {
   "cell_type": "code",
   "execution_count": null,
   "metadata": {
    "id": "MbR_PaXhBuK3"
   },
   "outputs": [],
   "source": [
    "#Correlation heatmap 2 with small change in Display\n",
    "import seaborn as sns\n",
    "corr = MiceImputed.corr()\n",
    "#sns.heatmap(corr,annot=True)\n",
    "mask = np.triu(np.ones_like(corr, dtype=bool))\n",
    "fig,ax=plt.subplots(figsize=(20,15))\n",
    "cmap = sns.diverging_palette(220, 15, as_cmap=True)\n",
    "sns.heatmap(mask = mask,data=corr, cmap=cmap, vmax=.3, center=0,square=True, linewidths=.5,annot=True, cbar_kws={\"shrink\": .5})\n",
    "plt.show()"
   ]
  },
  {
   "cell_type": "markdown",
   "metadata": {
    "id": "WEmF5wnnEaqe"
   },
   "source": [
    "Here,  we can see the features like temp3PM and temp9am  have strong correlation with MinTemp,MaxTemp .As well as we can see the other features like Evaporation,sunnshine have positive correlartion  i.e\n",
    "Positive High correlation :\n",
    "Temp3pm vs MinTemp = (0.74).\n",
    "\n",
    "Temp3PM vs MaxTemp = (0.98)\n",
    "\n",
    "temp9am vs MinTemp = (0.86)\n",
    "temp9am vs MaxTemp = (0.88)\n",
    "\n",
    "Evaporation vs MaxTemp = (0.71)\n",
    "\n",
    "Negitive correlation :             \n",
    "\n",
    "Presure9am vs Temp9am : (-0.64)\n",
    "presure9am vs Temp3PM : (-0.52)\n",
    "\n",
    "presure3pm vs temp9am : (-0.66)\n",
    "presure3pm vs temp3pm : (-0.61)\n",
    "\n",
    "\n",
    "However . we can delve deeper into the pairwise correlation between these highly correlated characterstics  by examining the following pair diagram .\n",
    "\n",
    "each of the paired plots shows very clearly distinct clusters of rainTomorrow;s \"Yes\" and 'No clusters\n",
    "\n",
    "There is very minimal overlap between them\n",
    "\n",
    "\n",
    "\n",
    "\n",
    "\n",
    "\n",
    "\n",
    "\n",
    "maxtemp vs MinTemp have strong correlation (0.76)\n",
    "pressure9h and pressure3h  have very strong correlation (0.97)\n",
    "\n"
   ]
  },
  {
   "cell_type": "code",
   "execution_count": null,
   "metadata": {
    "id": "M8pXCyL0KHzm"
   },
   "outputs": [],
   "source": [
    "sns.pairplot(data=MiceImputed, vars=('MaxTemp','MinTemp','Pressure9am','Pressure3pm','Temp3pm','Temp9am','Evaporation' ),hue='RainTomorrow')"
   ]
  },
  {
   "cell_type": "markdown",
   "metadata": {
    "id": "4xonBjiLVTiy"
   },
   "source": [
    "##**Feature selection for Rainfall Predection**\n",
    "\n",
    "\n",
    "I'm using filter method and wrapper method for feature selection to train our rainfall predection model\n"
   ]
  },
  {
   "cell_type": "markdown",
   "metadata": {
    "id": "HorXeGrbV-T0"
   },
   "source": [
    "\n",
    "###**Just for Note: **\n",
    "\n",
    "\n",
    "**Filter Methods**\n",
    "**Filter methods involve evaluating the relevance of features based on certain criteria, independent of any machine learning algorithm. They use statistical techniques to assess the importance of each feature before the actual model training. Here are some common filter methods:**\n",
    "\n",
    "**Statistical Tests:** Tests like chi-squared, ANOVA F-statistic, and Pearson correlation can be used to assess the relationship between each feature and the target variable.\n",
    "\n",
    "**Information Gain:** Measures how much information a feature provides about the class labels.\n",
    "\n",
    "**Variance Threshold**: Features with low variance (i.e., little to no change in values) are often removed, assuming they carry less information.\n",
    "\n",
    "**Mutual Information:** Quantifies the amount of information obtained about one variable through the other.\n",
    "\n",
    "##Advantages:\n",
    "\n",
    "**Fast**: Generally faster as they do not involve training models.\n",
    "Simple: Easy to understand and implement.\n",
    "Scalable: Can handle large datasets with many features.\n",
    "\n",
    "\n",
    "**Disadvantages**:\n",
    "\n",
    "**Independent of model**: May not always choose the best features for a particular model.\n",
    "Limited context: Evaluates features in isolation rather than considering their interactions.\n",
    "Wrapper Methods\n",
    "Wrapper methods involve selecting features by evaluating their performance with a specific machine learning algorithm. They use the model's performance to assess feature subsets, making them more tailored to the specific algorithm used. Here are some common wrapper methods:\n",
    "\n",
    "**Forward Selection:** Starts with no features and adds one feature at a time that improves the model's performance until no further improvement is observed.\n",
    "\n",
    "**Backward Elimination:** Starts with all features and removes the least significant feature at each step, assessing performance at each stage.\n",
    "\n",
    "Recursive Feature Elimination (RFE): Iteratively fits the model, ranks the features, and eliminates the least important ones.\n",
    "\n",
    "**Advantages:**\n",
    "\n",
    "Model-specific: Considers interactions between features and their impact on the model's performance.\n",
    "Potentially more accurate: Can lead to better feature sets as they are evaluated in the context of the chosen model.\n",
    "\n",
    "\n",
    "**Disadvantages:**\n",
    "\n",
    "Computationally expensive: Requires multiple model trainings, which can be time-consuming for large datasets.\n",
    "Overfitting risk: May lead to overfitting if the feature set is too optimized for the training data."
   ]
  },
  {
   "cell_type": "code",
   "execution_count": null,
   "metadata": {
    "id": "9QccumyrXa-Z"
   },
   "outputs": [],
   "source": [
    "#Standardizing data\n",
    "from sklearn import preprocessing\n",
    "from sklearn.preprocessing import StandardScaler\n",
    "\n",
    "r_scaler = preprocessing.MinMaxScaler()\n",
    "r_scaler.fit(MiceImputed)\n",
    "modified_data = pd.DataFrame(r_scaler.transform(MiceImputed), index=MiceImputed.index, columns=MiceImputed.columns)"
   ]
  },
  {
   "cell_type": "markdown",
   "metadata": {
    "id": "Fm-QHDTJ6Ftz"
   },
   "source": [
    "#Feature Importance using Filter Method(Chi-square)"
   ]
  },
  {
   "cell_type": "code",
   "execution_count": null,
   "metadata": {
    "id": "JZ7LRwKjX4l5"
   },
   "outputs": [],
   "source": [
    "#Feature Importance using Filter Method(Chi-square)\n",
    "\n",
    "from  sklearn.feature_selection import SelectKBest\n",
    "from sklearn.feature_selection import chi2\n",
    "\n",
    "X = modified_data.loc[:,modified_data.columns != 'RainTomorrow']\n",
    "y = modified_data['RainTomorrow']\n",
    "\n",
    "selector_chi2 = SelectKBest(chi2, k=10)\n",
    "selector_chi2.fit(X, y)\n",
    "\n",
    "X_new = selector_chi2.transform(X)\n",
    "X_new.shape\n",
    "\n",
    "print(X.columns[selector_chi2.get_support(indices=True)])\n"
   ]
  },
  {
   "cell_type": "markdown",
   "metadata": {
    "id": "v4qnHI3bf2E_"
   },
   "source": [
    "### **Selection of features by wrapping method (Random forest )**"
   ]
  },
  {
   "cell_type": "code",
   "execution_count": null,
   "metadata": {
    "id": "bBjGSCjEgClO"
   },
   "outputs": [],
   "source": [
    "\n",
    "from sklearn.ensemble import RandomForestClassifier  as rf\n",
    "from sklearn.feature_selection import SelectFromModel\n",
    "\n",
    "#prepare the feature matrix and target variable\n",
    "X_rf = MiceImputed.drop('RainTomorrow', axis=1)\n",
    "\n",
    "y_rf = MiceImputed['RainTomorrow']\n",
    "\n",
    "#Initialize and fit the RandomForest Classifier\n",
    "\n",
    "rf_model = rf(n_estimators=100, random_state=42)\n",
    "rf_model.fit(X_rf, y_rf)\n",
    "\n",
    "#Use selectFormModel with fitted RFC\n",
    "\n",
    "rf_selector = SelectFromModel(rf_model,prefit=True)\n",
    "support = rf_selector.get_support()\n",
    "features = X_rf.loc[:,support].columns.tolist()\n",
    "\n",
    "print(\"Selected Feature:\",features)\n",
    "print('Feature Importences:', rf_model.feature_importances_)\n",
    "\n",
    "constant_features = [col for col in X_rf.columns if X_rf[col].nunique() <= 1]\n",
    "print(\"Constant features:\", constant_features)\n"
   ]
  },
  {
   "cell_type": "code",
   "execution_count": null,
   "metadata": {
    "id": "PcPMTbonkXib"
   },
   "outputs": [],
   "source": [
    "#Due to null values in selected values ,Below is just for testing perpose\n",
    "from sklearn.ensemble import RandomForestClassifier\n",
    "from sklearn.feature_selection import SelectFromModel\n",
    "import pandas as pd\n",
    "\n",
    "#Prepare the feature matrix and target variable\n",
    "X_rf = MiceImputed.drop('RainTomorrow', axis=1)\n",
    "y_rf = MiceImputed['RainTomorrow']\n",
    "\n",
    "#Check for constant columns\n",
    "constant_features = [col for col in X_rf.columns if X_rf[col].nunique() <= 1]\n",
    "print(\"Constant features:\", constant_features)\n",
    "\n",
    "#Check for missing values\n",
    "missing_values = X_rf.isnull().sum()\n",
    "print(\"Missing values:\", missing_values[missing_values > 0])\n",
    "\n",
    "#Encode categorical variables if necessary\n",
    "X_rf_encoded = pd.get_dummies(X_rf)\n",
    "\n",
    "#Initialize and fit the RandomForestClassifier\n",
    "rf_model = RandomForestClassifier(n_estimators=100, random_state=42)\n",
    "rf_model.fit(X_rf_encoded, y_rf)\n",
    "\n",
    "#Check feature importances\n",
    "importances = rf_model.feature_importances_\n",
    "print(\"Feature importances from the model directly:\", importances)\n",
    "\n",
    "#Use SelectFromModel with the fitted RandomForestClassifier\n",
    "rf_selector = SelectFromModel(rf_model, prefit=True)\n",
    "support = rf_selector.get_support()\n",
    "features = X_rf_encoded.columns[support].tolist()\n",
    "print(\"Selected features:\", features)\n"
   ]
  },
  {
   "cell_type": "code",
   "execution_count": null,
   "metadata": {
    "id": "1xR6k0TEk4dT"
   },
   "outputs": [],
   "source": [
    "\n",
    "print(MiceImputed.describe())\n",
    "print(MiceImputed.info())\n",
    "print(MiceImputed.head())"
   ]
  },
  {
   "cell_type": "code",
   "execution_count": null,
   "metadata": {
    "id": "Yg45aGS3W7lb"
   },
   "outputs": [],
   "source": [
    "missed_data_value = MiceImputed.isnull().sum()\n",
    "percent_missing = MiceImputed.isnull().sum() * 100 / len(df_Rain_Forecast)\n",
    "print('missed_data_value: \\n',missed_data_value, 'percent_missing : \\n', percent_missing)"
   ]
  },
  {
   "cell_type": "code",
   "execution_count": null,
   "metadata": {
    "id": "tEpg67PHXhna"
   },
   "outputs": [],
   "source": [
    "#Correlation heatmap 2 with small change in Display second time\n",
    "import seaborn as sns\n",
    "corr = MiceImputed.corr()\n",
    "#sns.heatmap(corr,annot=True)\n",
    "mask = np.triu(np.ones_like(corr, dtype=bool))\n",
    "fig,ax=plt.subplots(figsize=(20,15))\n",
    "cmap = sns.diverging_palette(220, 15, as_cmap=True)\n",
    "sns.heatmap(mask = mask,data=corr, cmap=cmap, vmax=.3, center=0,square=True, linewidths=.5,annot=True, cbar_kws={\"shrink\": .5})\n",
    "plt.show()"
   ]
  },
  {
   "cell_type": "markdown",
   "metadata": {
    "id": "VWdzPtCXX5TY"
   },
   "source": [
    "**Again secont time correlation heatmap **\n",
    "\n",
    " we can see the features like temp3PM and temp9am have strong correlation with MinTemp,MaxTemp .As well as we can see the other features like Evaporation,sunnshine have positive correlartion i.e Positive High correlation : Temp3pm vs MinTemp = (0.74).\n",
    "\n",
    "Temp3PM vs MaxTemp = (0.97)\n",
    "\n",
    "temp9am vs MinTemp = (0.87) temp9am vs MaxTemp = (0.89)\n",
    "\n",
    "Evaporation vs MaxTemp = (0.68)\n",
    "Evaporation vs Team3pm = (0.66)\n",
    "Evaporation vs Team9am = (0.66)\n",
    "\n",
    "Maxtemp vs Mintemp also possitive correlation i.t(0.75)\n",
    "\n",
    "\n",
    "\n",
    "Negitive correlation :\n",
    "\n",
    "Presure9am vs Temp9am : (-0.39) presure9am vs Temp3PM : (-0.43)\n",
    "\n",
    "presure3pm vs temp9am : (-0.66) presure3pm vs temp3pm : (-0.61)\n",
    "\n",
    "sunshine vs RainTomorrow = (-0.52)\n",
    "\n",
    "\n",
    "However . we can delve deeper into the pairwise correlation between these highly correlated characterstics by examining the following pair diagram .\n",
    "\n",
    "each of the paired plots shows very clearly distinct clusters of rainTomorrow;s \"Yes\" and 'No clusters\n",
    "\n",
    "There is very minimal overlap between them\n",
    "\n",
    "maxtemp vs MinTemp have strong correlation (0.75) pressure9h and pressure3h have very strong correlation (0.96)"
   ]
  },
  {
   "cell_type": "markdown",
   "metadata": {
    "id": "rTJrh7RcdPOG"
   },
   "source": [
    "##Training the model"
   ]
  },
  {
   "cell_type": "code",
   "execution_count": null,
   "metadata": {
    "id": "Ltn10wEks8dp"
   },
   "outputs": [],
   "source": [
    "#features= MiceImputed[['Location','MinTemp','MaxTemp','Rainfall','Evaporation','Sunshine','WindGustDir','WindGustSpeed','WindDir9am','WindDir3pm','WindSpeed9am','WindSpeed3pm','Humidity9am','Humidity3pm','Pressure9am','Pressure3pm','Cloud9am','Cloud3pm','Temp9am','Temp3pm','RainToday']]\n",
    "features = MiceImputed.drop('RainTomorrow', axis=1)\n",
    "target = MiceImputed['RainTomorrow']\n",
    "print(features.shape)\n",
    "print(target.shape)"
   ]
  },
  {
   "cell_type": "code",
   "execution_count": null,
   "metadata": {
    "id": "Ig2yDg8sCwhV"
   },
   "outputs": [],
   "source": [
    "from sklearn.model_selection import train_test_split\n",
    "from sklearn.neural_network import MLPClassifier\n",
    "\n",
    "from sklearn.linear_model import LogisticRegression\n",
    "from sklearn.metrics import  accuracy_score,roc_auc_score,cohen_kappa_score,confusion_matrix,classification_report,roc_curve\n",
    "from sklearn.linear_model import LogisticRegression\n",
    "from sklearn.tree import DecisionTreeClassifier\n",
    "from sklearn.neighbors import KNeighborsClassifier\n",
    "import lightgbm as lgb\n",
    "import xgboost as xgb\n",
    "from mlxtend.plotting import plot_decision_regions\n",
    "from sklearn.svm import SVC\n",
    "from sklearn.naive_bayes import GaussianNB\n",
    "from sklearn.ensemble import AdaBoostClassifier,GradientBoostingClassifier,RandomForestClassifier\n",
    "\n",
    "from sklearn.metrics import precision_score,recall_score,f1_score\n",
    "import time\n",
    "\n",
    "from sklearn.preprocessing import StandardScaler\n",
    "\n",
    "X_train, X_test, y_train, y_test = train_test_split(features, target, test_size=0.3, random_state=42)\n",
    "\n",
    "models = {\n",
    "    'Logistic Regression': LogisticRegression(),\n",
    "    'Decision Tree': DecisionTreeClassifier(),\n",
    "    'KNN': KNeighborsClassifier(),\n",
    "    'SVM': SVC(probability=True),\n",
    "    'Naive Bayes': GaussianNB(),\n",
    "    'AdaBoost': AdaBoostClassifier(),\n",
    "    'LightGBM': lgb.LGBMClassifier(),\n",
    "    'XGBoost': xgb.XGBClassifier(),\n",
    "    'Gradient Boosting': GradientBoostingClassifier(),\n",
    "    'Random Forest': RandomForestClassifier(),\n",
    "    'MLPClassifier': MLPClassifier()\n",
    "    }\n",
    "\n",
    "\n",
    "scaler = StandardScaler()\n",
    "X_train = scaler.fit_transform(X_train)\n",
    "X_test = scaler.transform(X_test)"
   ]
  },
  {
   "cell_type": "code",
   "execution_count": null,
   "metadata": {
    "id": "3UYdAyDE0fiy"
   },
   "outputs": [],
   "source": [
    "\n",
    "\n",
    "def run_model(model,X_train,X_test,y_train,y_test, verbose=True):\n",
    "  time_0 = time.time()\n",
    "  if verbose ==False:\n",
    "    model.fit(X_train,y_train)\n",
    "  else:\n",
    "    model.fit(X_train,y_train)\n",
    "  y_pred = model.predict(X_test)\n",
    "  accuracy = accuracy_score(y_test,y_pred)\n",
    "  roc_auc = roc_auc_score(y_test,y_pred)\n",
    "  cohen_kappa = cohen_kappa_score(y_test,y_pred)\n",
    "  precision = precision_score(y_test,y_pred)\n",
    "  recall = recall_score(y_test,y_pred)\n",
    "  f1 = f1_score(y_test,y_pred)\n",
    "  print('Model: ',model)\n",
    "  print('Accuracy: ',accuracy)\n",
    "  print('ROC_AUC: ',roc_auc)\n",
    "  print('Cohen_Kappa: ',cohen_kappa)\n",
    "  print('Precision: ',precision)\n",
    "  print('Recall: ',recall)\n",
    "  print('F1: ',f1)\n",
    "  print('Training Completed')\n",
    "  print('Time taken: ',time.time()-time_0)\n",
    "  print('-----------------------------------------------------------------------------------------\\n')\n",
    "\n",
    "  return model"
   ]
  },
  {
   "cell_type": "code",
   "execution_count": null,
   "metadata": {
    "id": "jUOfLvdIuQWm"
   },
   "outputs": [],
   "source": [
    "#Plot roc_auc\n",
    "plt.figure(figsize=(15,10))\n",
    "\n",
    "for i, (name, model) in enumerate(models.items()):\n",
    "  model = run_model(model,X_train,X_test,y_train,y_test)\n",
    "  y_pred_proba = model.predict_proba(X_test)[:,1]\n",
    "  fpr,tpr,thresholds = roc_curve(y_test,y_pred_proba)\n",
    "  auc_score = roc_auc_score(y_test,y_pred_proba)\n",
    "  plt.plot(fpr,tpr,label=f'{name} (AUC = {auc_score:.2f})')\n",
    "\n",
    "plt.plot([0,1],[0,1], 'k--', color = 'blue')\n",
    "plt.axis([0,1,0,1])\n",
    "plt.xlabel('False Positive Rate')\n",
    "plt.ylabel('True Positive Rate')\n",
    "plt.legend()\n",
    "plt.title('ROC Curve')\n",
    "plt.show()"
   ]
  },
  {
   "cell_type": "code",
   "execution_count": null,
   "metadata": {
    "id": "7uaz3qVGDysg"
   },
   "outputs": [],
   "source": [
    "#LGBMClassifier\n",
    "lgbmc_model = lgb.LGBMClassifier()\n",
    "lgbmc_model = run_model(lgbmc_model,X_train,X_test,y_train,y_test)\n",
    "\n",
    "probs0 = lgbmc_model.predict_proba(X_test)\n",
    "probs1 = probs0[:, 1]\n",
    "fpr, tpr, thresholds = roc_curve(y_test, probs1)\n",
    "plot_roc_curve(fpr, tpr)\n",
    "\n"
   ]
  },
  {
   "cell_type": "code",
   "execution_count": null,
   "metadata": {
    "id": "VDVAjdMyFDDz"
   },
   "outputs": [],
   "source": [
    "#xgb.XGBClassifier\n",
    "xgbc_model = xgb.XGBClassifier()\n",
    "xgbc_model = run_model(xgbc_model,X_train,X_test,y_train,y_test)\n",
    "\n",
    "probs0 = xgbc_model.predict_proba(X_test)\n",
    "probs1 = probs0[:, 1]\n",
    "fpr, tpr, thresholds = roc_curve(y_test, probs1)\n",
    "plot_roc_curve(fpr, tpr)"
   ]
  },
  {
   "cell_type": "code",
   "execution_count": null,
   "metadata": {
    "id": "EbbV_BVLEzDT"
   },
   "outputs": [],
   "source": []
  },
  {
   "cell_type": "code",
   "execution_count": null,
   "metadata": {
    "id": "HRXs9zfpwj1J"
   },
   "outputs": [],
   "source": [
    "#LogisticRegression\n",
    "LR_model = LogisticRegression()\n",
    "LR_model = run_model(LR_model,X_train,X_test,y_train,y_test)\n",
    "\n",
    "probs0 = LR_model.predict_proba(X_test)\n",
    "probs1 = probs0[:, 1]\n",
    "fpr, tpr, thresholds = roc_curve(y_test, probs1)\n",
    "plot_roc_curve(fpr, tpr)"
   ]
  },
  {
   "cell_type": "code",
   "execution_count": null,
   "metadata": {
    "id": "lU8aUBnL6Cq4"
   },
   "outputs": [],
   "source": [
    "#DecisionTreeClassifier\n",
    "DTC_model = DecisionTreeClassifier()\n",
    "DTC_model = run_model(DTC_model,X_train,X_test,y_train,y_test)\n",
    "\n",
    "probs0 = DTC_model.predict_proba(X_test)\n",
    "probs1 = probs0[:, 1]\n",
    "fpr, tpr, thresholds = roc_curve(y_test, probs1)\n",
    "plot_roc_curve(fpr, tpr)"
   ]
  },
  {
   "cell_type": "code",
   "execution_count": null,
   "metadata": {
    "id": "xjl5uvGm7ZO3"
   },
   "outputs": [],
   "source": [
    "#RandomForestClassifier\n",
    "RFC_model = RandomForestClassifier()\n",
    "RFC_model = run_model(RFC_model,X_train,X_test,y_train,y_test)\n",
    "\n",
    "probs0 = RFC_model.predict_proba(X_test)\n",
    "probs1 = probs0[:, 1]\n",
    "fpr, tpr, thresholds = roc_curve(y_test, probs1)\n",
    "plot_roc_curve(fpr, tpr)\n"
   ]
  },
  {
   "cell_type": "code",
   "execution_count": null,
   "metadata": {
    "id": "inDY5iR08_BM"
   },
   "outputs": [],
   "source": [
    "#GradientBoostingClassifier\n",
    "GBC_model = GradientBoostingClassifier()\n",
    "GBC_model = run_model(GBC_model,X_train,X_test,y_train,y_test)\n",
    "\n",
    "probs0 = GBC_model.predict_proba(X_test)\n",
    "probs1 = probs0[:, 1]\n",
    "fpr, tpr, thresholds = roc_curve(y_test, probs1)\n",
    "plot_roc_curve(fpr, tpr)"
   ]
  },
  {
   "cell_type": "code",
   "execution_count": null,
   "metadata": {
    "id": "sDmnoBeoAe6V"
   },
   "outputs": [],
   "source": []
  },
  {
   "cell_type": "markdown",
   "metadata": {
    "id": "BUs6pTpUGIwF"
   },
   "source": [
    "![image.png](data:image/png;base64,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)\n"
   ]
  },
  {
   "cell_type": "markdown",
   "metadata": {
    "id": "glpItQLfA514"
   },
   "source": [
    "# Best Model selections :   \n",
    "#Random Forrest Classifier\n",
    "\n",
    "\n",
    "#First best model :\n",
    "\n",
    "Model:  RandomForestClassifier()\n",
    "Accuracy:  0.963963963963964\n",
    "ROC_AUC:  0.9655968756106001\n",
    "Cohen_Kappa:  0.925225775214197\n",
    "Precision:  0.9380692167577414\n",
    "Recall:  0.9735349716446124\n",
    "F1:  0.9554730983302412\n",
    "Training Completed\n",
    "Time taken:  0.6655216217041016\n",
    "\n",
    "\n",
    "#This model has the highest accuracy (0.96)\n",
    "\n",
    "#ROC_AUC (0.965)\n"
   ]
  },
  {
   "cell_type": "code",
   "execution_count": null,
   "metadata": {
    "id": "3hYlfJhQI97F"
   },
   "outputs": [],
   "source": [
    "#Save model\n",
    "import joblib\n",
    "joblib.dump(RFC_model,'Best_model_RFC.pkl')\n",
    "\n",
    "\n",
    "\n"
   ]
  }
 ],
 "metadata": {
  "colab": {
   "authorship_tag": "ABX9TyP0kPvfQNqTrABzvL3ykzzz",
   "include_colab_link": true,
   "private_outputs": true,
   "provenance": []
  },
  "kernelspec": {
   "display_name": "Python 3 (ipykernel)",
   "language": "python",
   "name": "python3"
  },
  "language_info": {
   "codemirror_mode": {
    "name": "ipython",
    "version": 3
   },
   "file_extension": ".py",
   "mimetype": "text/x-python",
   "name": "python",
   "nbconvert_exporter": "python",
   "pygments_lexer": "ipython3",
   "version": "3.11.4"
  }
 },
 "nbformat": 4,
 "nbformat_minor": 1
}
